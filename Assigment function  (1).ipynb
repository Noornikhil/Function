{
 "cells": [
  {
   "cell_type": "code",
   "execution_count": null,
   "id": "89446791-9718-428e-a217-02174ffeca8e",
   "metadata": {},
   "outputs": [],
   "source": [
    "1. What is the difference between a function and a method in Python?\n",
    "  -> A function is defined using def and can be independent.\n",
    "      Eg = def greetings ():\n",
    "               print(\"Welcome to the office \")\n",
    "           greetings()\n",
    "  -> A method is a function that belongs to an object (like a string or list).\n",
    "      Eg = name = \"Noor\"\n",
    "           print(name.upper ())"
   ]
  },
  {
   "cell_type": "code",
   "execution_count": null,
   "id": "f2378c6b-c844-4c38-8956-904b33f3ad55",
   "metadata": {},
   "outputs": [],
   "source": [
    "2. Explain the concept of function arguments and parameters in Python.\n",
    "  -> Parameters are variables in a function definition.\n",
    "      Eg = def sum (a,b,c = 0):\n",
    "               return a+b+c\n",
    "           sum (8,36)\n",
    "  -> Arguments are values passed to the function.\n",
    "      Eg = def square_no (a):\n",
    "               return a*a"
   ]
  },
  {
   "cell_type": "code",
   "execution_count": null,
   "id": "1023ab8d-835d-4076-ba6c-6c29d59411da",
   "metadata": {},
   "outputs": [],
   "source": [
    "3. What are the different ways to define and call a function in Python?\n",
    "  -> Normal function \n",
    "      def say_hello():\n",
    "          print (\"hello\")\n",
    "  -> lambda fuction  \n",
    "      def square (x):\n",
    "          return x**2\n",
    "      square(2)    "
   ]
  },
  {
   "cell_type": "code",
   "execution_count": null,
   "id": "88262f05-910d-4a30-9b84-804e6f040e12",
   "metadata": {},
   "outputs": [],
   "source": [
    "4. What is the purpose of the 'return' statement in a Python function?\n",
    "  -> Return function = Give output of a function.\n",
    "      def func ():\n",
    "          return \"This is my first function \"\n",
    "      func()    "
   ]
  },
  {
   "cell_type": "code",
   "execution_count": null,
   "id": "c2242d30-78c7-48d4-8b0b-27ebc4fa83f8",
   "metadata": {},
   "outputs": [],
   "source": [
    "5. What are iterators in Python and how do they differ from iterables?\n",
    "  -> Iterators = An iterator is an object representing a stream of data => return the data one by one .\n",
    "      Eg = chop/ wash the potato -> ready for cooking => iterator \n",
    "  -> Iterable = An iterable is any python object/ sequential structure / data structure that is capable of returning \n",
    "      Eg = Potato = it can not be cooked in orginal form .\n",
    "          "
   ]
  },
  {
   "cell_type": "code",
   "execution_count": null,
   "id": "35f46070-0db6-4189-a741-1e6e8a3edd22",
   "metadata": {},
   "outputs": [],
   "source": [
    "6. Explain the concept of generators in Python and how they defined?\n",
    "  -> Can we have something to generate result one by one instead of one go \n",
    "     yeild = general function uses return statement but generator function use yield statement.\n",
    "    Eg =  def gen():\n",
    "             for i in range(3):\n",
    "                 yield i\n"
   ]
  },
  {
   "cell_type": "code",
   "execution_count": null,
   "id": "05938bb1-b828-4f39-9e8b-50a0e01c8173",
   "metadata": {},
   "outputs": [],
   "source": [
    "7 . What are the advantages of using generators over regular functions? \n",
    "   ->Memory-efficient, lazy evaluation, infinite sequences.  \n",
    "       Eg = for i in range (1,10)\n",
    "                 print(i)\n",
    "\n",
    "     \n",
    "  \n"
   ]
  },
  {
   "cell_type": "code",
   "execution_count": null,
   "id": "3ba69d87-2973-43e8-a871-b04adc4b4600",
   "metadata": {},
   "outputs": [],
   "source": [
    "8. What is a lambda function in Python and when is it typically used?\n",
    "  -> It is an anonymous function in this function no need of return statement and def keyword. \n",
    "      Used in map and filter \n",
    "     Eg = Sq_lambda = lambda x:x**2\n",
    "          Sq_lambda(2)"
   ]
  },
  {
   "cell_type": "code",
   "execution_count": null,
   "id": "ed89d565-354c-4506-90f7-4d1cba1a710c",
   "metadata": {},
   "outputs": [],
   "source": [
    "9. Explain the purpose and usage of the map() function in Python.\n",
    "  -> Map () = Executes a specified function for each of iteum of an iterable. \n",
    "      Eg = # map (func, iterable)\n",
    "           list(map(sq,1))\n",
    "\n"
   ]
  },
  {
   "cell_type": "code",
   "execution_count": 18,
   "id": "e4d5c1ff-a4cf-4f8e-9743-caebbfbbc56f",
   "metadata": {},
   "outputs": [
    {
     "ename": "IndentationError",
     "evalue": "unindent does not match any outer indentation level (<string>, line 5)",
     "output_type": "error",
     "traceback": [
      "  \u001b[36mFile \u001b[39m\u001b[32m<string>:5\u001b[39m\n\u001b[31m    \u001b[39m\u001b[31mlist ((add,1))\u001b[39m\n                  ^\n\u001b[31mIndentationError\u001b[39m\u001b[31m:\u001b[39m unindent does not match any outer indentation level\n"
     ]
    }
   ],
   "source": [
    "10. What is the difference between map()\", \"reduce(), and filter() functions in Python?\n",
    "   -> Map() = executes a specified function for each item in an iterable.\n",
    "       Eg = def add (x):\n",
    "                 return x+10 \n",
    "            list ((add,1))\n",
    "   -> Reduce() = Reduce will always take two argument function from functools import reduce .\n",
    "        Eg = 1 = [2,1,3,4,4,5,6]\n",
    "             reduce(lambda x,y:x+y,[1])\n",
    "   -> fliter () = : Filters items based on condition.\n",
    "       Eg =  1\n",
    "             [2,1,3,4,4,5,6]\n",
    "             list(filter(lambda x : x % 2 == 0,1))       \n",
    "\n"
   ]
  },
  {
   "cell_type": "code",
   "execution_count": null,
   "id": "5211eb75-7a91-4a7f-b00d-7e49b329f292",
   "metadata": {},
   "outputs": [],
   "source": [
    "11. Using pen & Paper #st: (47,11,42,13 ernal mechanism for aparetion using reduce function on this given\n"
   ]
  },
  {
   "cell_type": "code",
   "execution_count": null,
   "id": "6990fa0d-68a4-4650-94fb-82d437ed6623",
   "metadata": {},
   "outputs": [],
   "source": [
    " PRACTICAL QUESTION \n"
   ]
  },
  {
   "cell_type": "code",
   "execution_count": 21,
   "id": "22174de3-37f8-4e7a-9715-9b66e6451771",
   "metadata": {},
   "outputs": [
    {
     "name": "stdout",
     "output_type": "stream",
     "text": [
      "18\n"
     ]
    }
   ],
   "source": [
    "#1. Write a Python function that takes a list of numbers as input and returns the sum of all even numbers in the list.\n",
    "\n",
    "def sum_even(nums):\n",
    "   return sum(x for x in nums if x % 2 == 0)\n",
    "print(sum_even([1,5,6,8,4,3]))\n",
    "    \n",
    "\n",
    "\n"
   ]
  },
  {
   "cell_type": "code",
   "execution_count": 10,
   "id": "9b095659-d674-40e5-813b-4a57d8eec864",
   "metadata": {},
   "outputs": [
    {
     "name": "stdout",
     "output_type": "stream",
     "text": [
      "nohtyP\n"
     ]
    }
   ],
   "source": [
    "#2. Create a Python function that accepts a string and returns the reverse of that string.\n",
    "def reverse_string(s):\n",
    "    return s[::-1]\n",
    "\n",
    "print(reverse_string(\"Python\"))  \n",
    "    \n"
   ]
  },
  {
   "cell_type": "code",
   "execution_count": 23,
   "id": "b504276a-afe7-40c5-b1ab-87c79a9c62c2",
   "metadata": {},
   "outputs": [
    {
     "name": "stdout",
     "output_type": "stream",
     "text": [
      "[64, 25, 36, 144, 3969]\n"
     ]
    }
   ],
   "source": [
    "#3. Implement a Python function that takes a list of integers and returns a new list containing the squares of each number.\n",
    "def square_list(numbers):  \n",
    "    return [num**2 for num in numbers]\n",
    "print(square_list([8,5,6,12,63]))    "
   ]
  },
  {
   "cell_type": "code",
   "execution_count": 2,
   "id": "5dd129a7-15ff-4052-8101-e7de9b4b87c5",
   "metadata": {},
   "outputs": [
    {
     "name": "stdout",
     "output_type": "stream",
     "text": [
      "False\n"
     ]
    }
   ],
   "source": [
    "#4. Write a Python function that checks if a given number is prime or not from 1 to 200.\n",
    "def prime(n):\n",
    "    if n<2: return False\n",
    "    for i in range(2,int(n**0.5)+1):\n",
    "        if n % i ==0:\n",
    "            return False\n",
    "    return true\n",
    "print(prime(54))    \n"
   ]
  },
  {
   "cell_type": "code",
   "execution_count": 4,
   "id": "4b1ffd83-fd3c-4723-9d4d-b06625a8b4eb",
   "metadata": {},
   "outputs": [
    {
     "name": "stdout",
     "output_type": "stream",
     "text": [
      "1 1 2 3 5 8 13 "
     ]
    }
   ],
   "source": [
    "#5. Create an iterator class in Python that generates the Fibonacci sequence up to a specified number of terms.\n",
    "class Fibonacci:\n",
    "    def __init__(self, n):\n",
    "        self.a, self.b, self.count = 0, 1, 0\n",
    "        self.n = n\n",
    "    def __iter__(self):\n",
    "        return self\n",
    "    def __next__(self):\n",
    "        if self.count >= self.n:\n",
    "            raise StopIteration\n",
    "        self.a, self.b = self.b, self.a + self.b\n",
    "        self.count += 1\n",
    "        return self.a\n",
    "\n",
    "for num in Fibonacci(7):\n",
    "    print(num, end=' ')  \n",
    "\n"
   ]
  },
  {
   "cell_type": "code",
   "execution_count": 5,
   "id": "8b4c97bb-8ef4-4e61-b276-00c1f18ef920",
   "metadata": {},
   "outputs": [
    {
     "name": "stdout",
     "output_type": "stream",
     "text": [
      "[1, 2, 4, 8, 16]\n"
     ]
    }
   ],
   "source": [
    "#6. Write a generator function in Python that yields the powers of 2 up to a given exponent.\n",
    "def power_of_2(n):\n",
    "    for i in range(n + 1):\n",
    "        yield 2 ** i\n",
    "\n",
    "print(list(power_of_2(4)))  \n",
    "    \n",
    "    \n"
   ]
  },
  {
   "cell_type": "code",
   "execution_count": 7,
   "id": "d6ec5370-eb7e-4393-8e43-b7e81f1da507",
   "metadata": {},
   "outputs": [
    {
     "ename": "NameError",
     "evalue": "name 'line' is not defined",
     "output_type": "error",
     "traceback": [
      "\u001b[31m---------------------------------------------------------------------------\u001b[39m",
      "\u001b[31mNameError\u001b[39m                                 Traceback (most recent call last)",
      "\u001b[36mCell\u001b[39m\u001b[36m \u001b[39m\u001b[32mIn[7]\u001b[39m\u001b[32m, line 6\u001b[39m\n\u001b[32m      4\u001b[39m         \u001b[38;5;28;01mfor\u001b[39;00m line \u001b[38;5;129;01min\u001b[39;00m f:\n\u001b[32m      5\u001b[39m             \u001b[38;5;28;01myield\u001b[39;00m line.strip()\n\u001b[32m----> \u001b[39m\u001b[32m6\u001b[39m \u001b[38;5;28mprint\u001b[39m(\u001b[43mline\u001b[49m)            \n",
      "\u001b[31mNameError\u001b[39m: name 'line' is not defined"
     ]
    }
   ],
   "source": [
    "#7. Implement a generator function that reads a file line by line and yields each line as a string.\n",
    "def file_reader(filename):\n",
    "    with open (filename,'d') as f:\n",
    "        for line in f:\n",
    "            yield line.strip()\n",
    "           "
   ]
  },
  {
   "cell_type": "code",
   "execution_count": 8,
   "id": "c9b9408a-6657-4824-bfcb-fedf01570677",
   "metadata": {},
   "outputs": [
    {
     "name": "stdout",
     "output_type": "stream",
     "text": [
      "[(4, 1), (2, 2), (1, 3)]\n"
     ]
    }
   ],
   "source": [
    "#8. Use a lambda function in Python to sort a list of tuples based on the second element of each tuple.\n",
    "data = [(1, 3), (4, 1), (2, 2)]\n",
    "sorted_data = sorted(data, key=lambda x: x[1])\n",
    "print(sorted_data)  \n"
   ]
  },
  {
   "cell_type": "code",
   "execution_count": 9,
   "id": "53f7c38a-6227-4644-bd26-217ca05cdf90",
   "metadata": {},
   "outputs": [
    {
     "name": "stdout",
     "output_type": "stream",
     "text": [
      "[32.0, 68.0, 98.6, 212.0]\n"
     ]
    }
   ],
   "source": [
    "#9. Write a Python program that uses 'map() to convert a list of temperatures from Celsius to Fahrenheit.\n",
    "celsius = [0, 20, 37, 100]\n",
    "fahrenheit = list(map(lambda c: (c * 9/5) + 32, celsius))\n",
    "print(fahrenheit)  \n",
    "\n",
    "\n",
    "\n",
    "\n"
   ]
  },
  {
   "cell_type": "code",
   "execution_count": null,
   "id": "13f47def-fff1-456e-b32e-38e36243bd39",
   "metadata": {},
   "outputs": [],
   "source": [
    "#10. Create a Python program that uses 'filter() to remove all the vowels from a given string.\n",
    "def remove_vowels(s):\n",
    "    return ''.join(filter(lambda x: x.lower() not in 'aeiou', s))\n",
    "\n",
    "print(remove_vowels(\"Hello World\"))  \n"
   ]
  }
 ],
 "metadata": {
  "kernelspec": {
   "display_name": "Python 3 (ipykernel)",
   "language": "python",
   "name": "python3"
  },
  "language_info": {
   "codemirror_mode": {
    "name": "ipython",
    "version": 3
   },
   "file_extension": ".py",
   "mimetype": "text/x-python",
   "name": "python",
   "nbconvert_exporter": "python",
   "pygments_lexer": "ipython3",
   "version": "3.13.3"
  }
 },
 "nbformat": 4,
 "nbformat_minor": 5
}
